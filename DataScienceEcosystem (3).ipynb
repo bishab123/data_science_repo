{
 "cells": [
  {
   "cell_type": "markdown",
   "id": "cee2e966-4b92-4472-9d0a-29778b4d1e14",
   "metadata": {},
   "source": [
    "<center>\n",
    "    <img src=\"https://cf-courses-data.s3.us.cloud-object-storage.appdomain.cloud/IBMDeveloperSkillsNetwork-DS0105EN-SkillsNetwork/labs/Module2/images/SN_web_lightmode.png\" width=\"300\" alt=\"cognitiveclass.ai logo\">\n",
    "</center>\n"
   ]
  },
  {
   "cell_type": "markdown",
   "id": "2107b889-bfee-4b69-ab00-34090b3e4c7f",
   "metadata": {},
   "source": [
    "#### Add your code below following the instructions given in the course\n"
   ]
  },
  {
   "cell_type": "markdown",
   "id": "5bee3b71-d05b-4f44-b569-6bbd0795ea29",
   "metadata": {
    "tags": []
   },
   "source": [
    "#  Data Science tools and Ecosystem\n"
   ]
  },
  {
   "cell_type": "markdown",
   "id": "292c98f5-cf4b-4a20-9903-739a5a45083c",
   "metadata": {},
   "source": [
    "## In this Notebook, Data Science tools And EcoSystem are summarized.\n"
   ]
  },
  {
   "cell_type": "markdown",
   "id": "bd24c4b2-caa0-4988-a890-0d9a30619b4e",
   "metadata": {},
   "source": [
    "### Some of the popular Languages That Data Scientist use are:\n",
    "1. Python\n",
    "2. R\n",
    "3. julia \n",
    "4. java \n"
   ]
  },
  {
   "cell_type": "markdown",
   "id": "1d6cc6af-88fc-4230-8b0f-8178ed966cff",
   "metadata": {},
   "source": [
    "* list popular languages for data science\n",
    "* list popular libraries for data science\n",
    "* data science tools(open source)\n",
    "* simple arthemetic calculations"
   ]
  },
  {
   "cell_type": "markdown",
   "id": "5401b930-d368-4256-96cc-b0c00e29e270",
   "metadata": {},
   "source": [
    "### Some of the popularly used libraries used by Data Scientist include:\n",
    "1. matplotlib\n",
    "2. tensorflow\n",
    "3. tableu\n",
    "4. pandas\n",
    "5. numpy\n",
    "6. ggplot"
   ]
  },
  {
   "cell_type": "markdown",
   "id": "f340ee19-4029-438e-8aa3-eb1c777effbd",
   "metadata": {},
   "source": [
    "| data science tools|\n",
    "|-------------------|\n",
    "|MYSQL|\n",
    "|Apache toolkit|\n",
    "|pixeDust|\n",
    "|PredictionIO|\n",
    "|ModelDB|"
   ]
  },
  {
   "cell_type": "markdown",
   "id": "6a663ca9-b4d9-46bc-80f6-c9eba7a45c18",
   "metadata": {},
   "source": [
    "### Below are a few examples of evaluating arithmetic expressions in python."
   ]
  },
  {
   "cell_type": "code",
   "execution_count": 1,
   "id": "2c0dee86-3f9c-4928-94a8-60be53a32907",
   "metadata": {},
   "outputs": [
    {
     "data": {
      "text/plain": [
       "17"
      ]
     },
     "execution_count": 1,
     "metadata": {},
     "output_type": "execute_result"
    }
   ],
   "source": [
    "(3*4)+5\n",
    "# this is the simple arthemetic expression to multiply then add integers."
   ]
  },
  {
   "cell_type": "code",
   "execution_count": 3,
   "id": "4eda8ac9-05b5-487a-8cde-9c142bb5b7f9",
   "metadata": {},
   "outputs": [
    {
     "data": {
      "text/plain": [
       "3.3333333333333335"
      ]
     },
     "execution_count": 3,
     "metadata": {},
     "output_type": "execute_result"
    }
   ],
   "source": [
    "# to convert minutes into hours.\n",
    "(200/60)\n",
    "# this expression will convert 200 minutes to hours by dividing by 60."
   ]
  },
  {
   "cell_type": "markdown",
   "id": "59a00f08-b65f-4104-9f04-f165be0c1521",
   "metadata": {},
   "source": [
    " ## AUTHOR\n",
    "   BISHAB BHANDARI"
   ]
  }
 ],
 "metadata": {
  "kernelspec": {
   "display_name": "Python 3 (ipykernel)",
   "language": "python",
   "name": "python3"
  },
  "language_info": {
   "codemirror_mode": {
    "name": "ipython",
    "version": 3
   },
   "file_extension": ".py",
   "mimetype": "text/x-python",
   "name": "python",
   "nbconvert_exporter": "python",
   "pygments_lexer": "ipython3",
   "version": "3.10.9"
  }
 },
 "nbformat": 4,
 "nbformat_minor": 5
}
